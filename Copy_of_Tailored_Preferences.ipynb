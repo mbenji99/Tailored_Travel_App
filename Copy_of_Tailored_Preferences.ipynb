{
  "nbformat": 4,
  "nbformat_minor": 0,
  "metadata": {
    "colab": {
      "provenance": []
    },
    "kernelspec": {
      "name": "python3",
      "display_name": "Python 3"
    },
    "language_info": {
      "name": "python"
    }
  },
  "cells": [
    {
      "cell_type": "code",
      "source": [
        "import pandas as pd\n",
        "import numpy as np\n",
        "import matplotlib.pyplot as plt"
      ],
      "metadata": {
        "id": "Yhpn_NJc_iqq"
      },
      "execution_count": null,
      "outputs": []
    },
    {
      "cell_type": "markdown",
      "source": [
        "# Preference dataset\n",
        "\n"
      ],
      "metadata": {
        "id": "l-BUNkhz8M2r"
      }
    },
    {
      "cell_type": "code",
      "source": [
        "df = pd.read_csv('Preference_Data.csv')"
      ],
      "metadata": {
        "colab": {
          "base_uri": "https://localhost:8080/"
        },
        "id": "kko6HsJf-iXb",
        "outputId": "f38537db-644b-4df4-ad8f-1ea943732d54"
      },
      "execution_count": null,
      "outputs": [
        {
          "output_type": "stream",
          "name": "stderr",
          "text": [
            "<ipython-input-2-a12d4d854249>:1: DtypeWarning: Columns (7,42,43,44,45,46,47,48,49,50,51,52,53,54,55,56,57,58,59,60,61,62,63,64,65,66,67,68,69,70,71,72,73,74,75,76,77,78,79,80,81,82,83,84,85,86,87,88,89,90,91,92,93,94,95,96,97,98,99,100,101,102,103,104,105,106,107,108,109,110,111,112,113,114,115,116,117,118,119,120,121,122) have mixed types. Specify dtype option on import or set low_memory=False.\n",
            "  df = pd.read_csv('Preference_Data.csv')\n"
          ]
        }
      ]
    },
    {
      "cell_type": "code",
      "source": [
        "df = df.rename(columns={\n",
        "    'a': 'age_group',\n",
        "    'b': 'budget_per_night',\n",
        "    'c': 'travel_season',\n",
        "    'f': 'preferred_experiences',\n",
        "    'g': 'scenery_preferences',\n",
        "    'h': 'activity_level',\n",
        "    'i': 'safety_preference',\n",
        "    'j': 'popularity_preference',\n",
        "    'r': 'region_interest',\n",
        "    'rr': 'preferred_regions',\n",
        "    'yes_swipes': 'liked_destinations',\n",
        "    'no_swipes': 'disliked_destinations',\n",
        "    'maybe_swipes': 'maybe_destinations',\n",
        "    'group_name': 'destination_group'\n",
        "})"
      ],
      "metadata": {
        "id": "nxrRIJV4_Psq"
      },
      "execution_count": null,
      "outputs": []
    },
    {
      "cell_type": "code",
      "source": [
        "columns_to_keep = [\n",
        "    'age_group', 'budget_per_night', 'travel_season',\n",
        "    'preferred_experiences', 'scenery_preferences',\n",
        "    'activity_level', 'safety_preference', 'popularity_preference',\n",
        "    'liked_destinations', 'disliked_destinations', 'maybe_destinations'\n",
        "]\n",
        "\n",
        "df_cleaned = df[columns_to_keep].copy()"
      ],
      "metadata": {
        "id": "rlbQc_lbCP1u"
      },
      "execution_count": null,
      "outputs": []
    },
    {
      "cell_type": "code",
      "source": [
        "age_map = {0: '0-19', 1: '20-39', 2: '40-59', 3: '60+'}\n",
        "budget_map = {0: '$0-$49', 1: '$50-$99', 2: '$100-$249', 3: '$300+'}\n",
        "season_map = {0: 'Winter', 1: 'Spring', 2: 'Summer', 3: 'Fall'}\n",
        "experience_map = {\n",
        "    0: 'Beach', 1: 'Adventure', 2: 'Nature', 3: 'Culture',\n",
        "    4: 'Nightlife', 5: 'History', 6: 'Shopping', 7: 'Cuisine'\n",
        "}\n",
        "scenery_map = {\n",
        "    0: 'Urban', 1: 'Rural', 2: 'Sea', 3: 'Mountain',\n",
        "    4: 'Lake', 5: 'Desert', 6: 'Plains', 7: 'Jungle'\n",
        "}\n",
        "activity_map = {0: 'Chill & Relaxed', 1: 'Balanced', 2: 'Active'}\n",
        "safety_map = {0: 'Very Safety Conscious', 1: 'Balanced', 2: 'Ready for Anything'}\n",
        "popularity_map = {0: 'Off the Beaten Path', 1: 'Classic Spot', 2: 'Mainstream & Trendy'}"
      ],
      "metadata": {
        "id": "JLTXv6BK_TEp"
      },
      "execution_count": null,
      "outputs": []
    },
    {
      "cell_type": "code",
      "source": [
        "import ast\n",
        "\n",
        "def decode_list_field(field, mapping):\n",
        "    if pd.isna(field): return []\n",
        "    try:\n",
        "        parsed = ast.literal_eval(field) if isinstance(field, str) else field\n",
        "        return [mapping.get(int(val), val) for val in parsed]\n",
        "    except:\n",
        "        return []\n",
        "\n",
        "def decode_single_field(field, mapping):\n",
        "    try:\n",
        "        if isinstance(field, float) and pd.isna(field):\n",
        "            return None\n",
        "\n",
        "        # If it's a string like \"['1']\" or \"[1]\"\n",
        "        if isinstance(field, str):\n",
        "            parsed = ast.literal_eval(field)\n",
        "            if isinstance(parsed, list) and len(parsed) > 0:\n",
        "                field = parsed[0]\n",
        "            else:\n",
        "                field = parsed  # fallback\n",
        "\n",
        "        return mapping.get(int(field), field)\n",
        "    except Exception as e:\n",
        "        print(f\"Error decoding single field {field}: {e}\")\n",
        "\n",
        "        return field  # fallback\n",
        "\n",
        "def decode_region_codes(field):\n",
        "    if pd.isna(field): return None\n",
        "    return [specific_region_map.get(code, code) for code in str(field)]\n"
      ],
      "metadata": {
        "id": "5K4I42IU_Wbh"
      },
      "execution_count": null,
      "outputs": []
    },
    {
      "cell_type": "code",
      "source": [
        "df_cleaned['age_group'] = df_cleaned['age_group'].apply(lambda x: decode_list_field(x, age_map))\n",
        "df_cleaned['budget_per_night'] = df_cleaned['budget_per_night'].apply(lambda x: decode_single_field(x, budget_map))\n",
        "df_cleaned['travel_season'] = df_cleaned['travel_season'].apply(lambda x: decode_single_field(x, season_map))\n",
        "df_cleaned['preferred_experiences'] = df_cleaned['preferred_experiences'].apply(lambda x: decode_list_field(x, experience_map))\n",
        "df_cleaned['scenery_preferences'] = df_cleaned['scenery_preferences'].apply(lambda x: decode_list_field(x, scenery_map))\n",
        "df_cleaned['activity_level'] = df_cleaned['activity_level'].apply(lambda x: decode_single_field(x, activity_map))\n",
        "df_cleaned['safety_preference'] = df_cleaned['safety_preference'].apply(lambda x: decode_single_field(x, safety_map))\n",
        "df_cleaned['popularity_preference'] = df_cleaned['popularity_preference'].apply(lambda x: decode_single_field(x, popularity_map))\n"
      ],
      "metadata": {
        "id": "co7c14QK_eZY"
      },
      "execution_count": null,
      "outputs": []
    },
    {
      "cell_type": "markdown",
      "source": [
        "# Formatting destinations\n"
      ],
      "metadata": {
        "id": "z8YrIkmmGDPR"
      }
    },
    {
      "cell_type": "code",
      "source": [
        "dest_id_map = {}\n",
        "\n",
        "with open('destination_ids.txt', 'r') as f:\n",
        "    for idx, line in enumerate(f):\n",
        "        dest_id_map[idx] = line.strip()"
      ],
      "metadata": {
        "id": "z-dWJUi4HRQo"
      },
      "execution_count": null,
      "outputs": []
    },
    {
      "cell_type": "code",
      "source": [
        "import ast\n",
        "\n",
        "def decode_swipes(swipe_str, id_map):\n",
        "    try:\n",
        "        ids = ast.literal_eval(swipe_str)\n",
        "        return [id_map.get(i, f\"Unknown({i})\") for i in ids]\n",
        "    except:\n",
        "        return []\n",
        "\n",
        "df_cleaned['liked_destinations'] = df_cleaned['liked_destinations'].apply(lambda x: decode_swipes(x, dest_id_map))\n",
        "df_cleaned['disliked_destinations'] = df_cleaned['disliked_destinations'].apply(lambda x: decode_swipes(x, dest_id_map))\n",
        "df_cleaned['maybe_destinations'] = df_cleaned['maybe_destinations'].apply(lambda x: decode_swipes(x, dest_id_map))\n",
        "\n",
        "# Step 1: Parse list-like strings to actual lists\n",
        "def safe_parse_list(val):\n",
        "    if isinstance(val, list):\n",
        "        return val\n",
        "    if isinstance(val, str):\n",
        "        try:\n",
        "            parsed = ast.literal_eval(val)\n",
        "            return parsed if isinstance(parsed, list) else [parsed]\n",
        "        except:\n",
        "            return [val]\n",
        "    if val is None or (not isinstance(val, (list, str)) and pd.isna(val)):\n",
        "        return []\n",
        "    return [val]\n",
        "\n",
        "# Ensure the columns are properly parsed as lists (empty lists or NaN are handled)\n",
        "df_cleaned['liked_destinations'] = df_cleaned['liked_destinations'].apply(safe_parse_list)\n",
        "df_cleaned['disliked_destinations'] = df_cleaned['disliked_destinations'].apply(safe_parse_list)\n",
        "\n",
        "# Remove rows where both 'liked_destinations' and 'disliked_destinations' are empty lists or NaN\n",
        "df_cleaned = df_cleaned[\n",
        "    (df_cleaned['liked_destinations'].apply(lambda x: len(x) > 0)) |\n",
        "    (df_cleaned['disliked_destinations'].apply(lambda x: len(x) > 0))\n",
        "]\n",
        "\n",
        "\n",
        "from google.colab import files\n",
        "df_cleaned.to_csv('cleaned.csv', index=False)\n",
        "files.download('cleaned.csv')\n",
        "\n",
        "\n"
      ],
      "metadata": {
        "id": "sHM5GtRmHWa2",
        "colab": {
          "base_uri": "https://localhost:8080/",
          "height": 17
        },
        "outputId": "a44c72c7-a2b8-4961-91aa-64ed9cc3cd3b"
      },
      "execution_count": null,
      "outputs": [
        {
          "output_type": "display_data",
          "data": {
            "text/plain": [
              "<IPython.core.display.Javascript object>"
            ],
            "application/javascript": [
              "\n",
              "    async function download(id, filename, size) {\n",
              "      if (!google.colab.kernel.accessAllowed) {\n",
              "        return;\n",
              "      }\n",
              "      const div = document.createElement('div');\n",
              "      const label = document.createElement('label');\n",
              "      label.textContent = `Downloading \"${filename}\": `;\n",
              "      div.appendChild(label);\n",
              "      const progress = document.createElement('progress');\n",
              "      progress.max = size;\n",
              "      div.appendChild(progress);\n",
              "      document.body.appendChild(div);\n",
              "\n",
              "      const buffers = [];\n",
              "      let downloaded = 0;\n",
              "\n",
              "      const channel = await google.colab.kernel.comms.open(id);\n",
              "      // Send a message to notify the kernel that we're ready.\n",
              "      channel.send({})\n",
              "\n",
              "      for await (const message of channel.messages) {\n",
              "        // Send a message to notify the kernel that we're ready.\n",
              "        channel.send({})\n",
              "        if (message.buffers) {\n",
              "          for (const buffer of message.buffers) {\n",
              "            buffers.push(buffer);\n",
              "            downloaded += buffer.byteLength;\n",
              "            progress.value = downloaded;\n",
              "          }\n",
              "        }\n",
              "      }\n",
              "      const blob = new Blob(buffers, {type: 'application/binary'});\n",
              "      const a = document.createElement('a');\n",
              "      a.href = window.URL.createObjectURL(blob);\n",
              "      a.download = filename;\n",
              "      div.appendChild(a);\n",
              "      a.click();\n",
              "      div.remove();\n",
              "    }\n",
              "  "
            ]
          },
          "metadata": {}
        },
        {
          "output_type": "display_data",
          "data": {
            "text/plain": [
              "<IPython.core.display.Javascript object>"
            ],
            "application/javascript": [
              "download(\"download_5f3b8348-4060-4792-b819-73e63be4b23a\", \"cleaned.csv\", 33832774)"
            ]
          },
          "metadata": {}
        }
      ]
    },
    {
      "cell_type": "markdown",
      "source": [
        "# Cleaning for Model"
      ],
      "metadata": {
        "id": "iZNAXKIedMKL"
      }
    },
    {
      "cell_type": "code",
      "source": [
        "from sklearn.preprocessing import OneHotEncoder\n",
        "import pandas as pd\n",
        "\n",
        "# Example: One-hot encode single-label columns\n",
        "one_hot_columns = ['budget_per_night', 'travel_season', 'activity_level']\n",
        "df_encoded = pd.get_dummies(df_cleaned, columns=one_hot_columns)\n"
      ],
      "metadata": {
        "id": "vu9iGDhbdPPC"
      },
      "execution_count": null,
      "outputs": []
    },
    {
      "cell_type": "code",
      "source": [
        "from sklearn.preprocessing import MultiLabelBinarizer\n",
        "\n",
        "mlb = MultiLabelBinarizer()\n",
        "\n",
        "# Example: Multi-label encode preferred_experiences\n",
        "experience_encoded = pd.DataFrame(mlb.fit_transform(df_cleaned['preferred_experiences']),\n",
        "                                   columns=mlb.classes_,\n",
        "                                   index=df_cleaned.index)\n",
        "\n",
        "# Merge with original DataFrame\n",
        "df_cleaned = pd.concat([df_cleaned.drop('preferred_experiences', axis=1), experience_encoded], axis=1)\n"
      ],
      "metadata": {
        "id": "2Su-TI9rdU7v"
      },
      "execution_count": null,
      "outputs": []
    },
    {
      "cell_type": "code",
      "source": [
        "df_cleaned = df_cleaned.fillna('Unknown')  # or use imputation or dropna()\n"
      ],
      "metadata": {
        "id": "HaNC0ss2daQJ"
      },
      "execution_count": null,
      "outputs": []
    },
    {
      "cell_type": "code",
      "source": [
        "multi_label_columns = [\n",
        "    'liked_destinations',\n",
        "    'disliked_destinations',\n",
        "    'maybe_destinations'\n",
        "]\n",
        "\n",
        "\n",
        "from sklearn.preprocessing import MultiLabelBinarizer\n",
        "\n",
        "# For each multi-label column, use MultiLabelBinarizer\n",
        "for col in multi_label_columns:\n",
        "    mlb = MultiLabelBinarizer()\n",
        "    binarized = pd.DataFrame(mlb.fit_transform(df_cleaned[col]),\n",
        "                             columns=[f\"{col}_{cls}\" for cls in mlb.classes_])\n",
        "\n",
        "    # Drop the original column and join the new one\n",
        "    df_cleaned = df_cleaned.drop(columns=[col]).join(binarized)\n"
      ],
      "metadata": {
        "id": "8doyqa4ltzyN"
      },
      "execution_count": null,
      "outputs": []
    },
    {
      "cell_type": "code",
      "source": [
        "def fix_single_category(val):\n",
        "    if isinstance(val, list):\n",
        "        return val[0] if val else 'Unknown'\n",
        "    return val if pd.notna(val) else 'Unknown'\n",
        "\n",
        "df_cleaned['age_group'] = df_cleaned['age_group'].apply(fix_single_category)"
      ],
      "metadata": {
        "id": "mw5uV4hGwNgS"
      },
      "execution_count": null,
      "outputs": []
    },
    {
      "cell_type": "code",
      "source": [
        "import ast\n",
        "import pandas as pd\n",
        "from sklearn.preprocessing import MinMaxScaler, MultiLabelBinarizer\n",
        "from sklearn.model_selection import train_test_split\n",
        "\n",
        "# Assuming df_cleaned is your DataFrame\n",
        "\n",
        "# Step 1: Parse list-like strings to actual lists\n",
        "def safe_parse_list(val):\n",
        "    if isinstance(val, list):\n",
        "        return val\n",
        "    if isinstance(val, str):\n",
        "        try:\n",
        "            parsed = ast.literal_eval(val)\n",
        "            return parsed if isinstance(parsed, list) else [parsed]\n",
        "        except:\n",
        "            return [val]\n",
        "    if val is None or (not isinstance(val, (list, str)) and pd.isna(val)):\n",
        "        return []\n",
        "    return [val]\n",
        "\n",
        "# List-like columns\n",
        "multi_label_columns = [\n",
        "    'scenery_preferences',\n",
        "    'preferred_regions',\n",
        "    'liked_destinations',\n",
        "    'disliked_destinations',\n",
        "    'maybe_destinations'\n",
        "]\n",
        "\n",
        "# Apply safe_parse_list to each multi-label column\n",
        "for col in multi_label_columns:\n",
        "    if col in df_cleaned.columns:\n",
        "        df_cleaned[col] = df_cleaned[col].apply(safe_parse_list)\n",
        "\n",
        "# Step 2: Clean numeric columns\n",
        "numeric_cols = ['budget_per_night']  # Update with actual numeric columns\n",
        "\n",
        "# Function to clean currency or range strings and convert to numeric\n",
        "def clean_numeric_column(col):\n",
        "    if col in df_cleaned.columns:\n",
        "        df_cleaned[col] = df_cleaned[col].replace({r'[^0-9.]': ''}, regex=True)  # Remove non-numeric characters\n",
        "        df_cleaned[col] = pd.to_numeric(df_cleaned[col], errors='coerce')  # Convert to numeric, coercing errors to NaN\n",
        "    return df_cleaned\n",
        "\n",
        "# Clean the numeric columns\n",
        "df_cleaned = clean_numeric_column('budget_per_night')\n",
        "\n",
        "# Ensure no missing values after cleaning\n",
        "df_cleaned[numeric_cols] = df_cleaned[numeric_cols].fillna(df_cleaned[numeric_cols].mean())\n",
        "\n",
        "# Step 3: Scale numeric columns\n",
        "scaler = MinMaxScaler()\n",
        "df_cleaned[numeric_cols] = scaler.fit_transform(df_cleaned[numeric_cols])\n",
        "\n",
        "# Step 4: One-Hot Encode Categorical Columns\n",
        "categorical_cols = [\n",
        "    'age_group',\n",
        "    'travel_season',\n",
        "    'activity_level',\n",
        "    'safety_preference',\n",
        "    'popularity_preference'\n",
        "]\n",
        "\n",
        "# One-hot encode categorical columns\n",
        "df_encoded = pd.get_dummies(df_cleaned, columns=categorical_cols)\n",
        "\n",
        "# Step 5: Encode multi-label columns using MultiLabelBinarizer\n",
        "for col in multi_label_columns:\n",
        "    if col in df_cleaned.columns:\n",
        "        mlb = MultiLabelBinarizer()\n",
        "        mlb_result = mlb.fit_transform(df_cleaned[col])\n",
        "        mlb_df = pd.DataFrame(mlb_result, columns=[f\"{col}_{cls}\" for cls in mlb.classes_])\n",
        "        df_encoded = pd.concat([df_encoded, mlb_df], axis=1)\n",
        "\n",
        "# Step 6: Drop original multi-label columns\n",
        "df_encoded.drop(columns=[col for col in multi_label_columns if col in df_encoded.columns], errors='ignore', inplace=True)\n",
        "\n"
      ],
      "metadata": {
        "id": "rGhhIjpZdaMI"
      },
      "execution_count": null,
      "outputs": []
    },
    {
      "cell_type": "code",
      "source": [
        "# Step 7: Define target and features\n",
        "# 🔁 Replace with your actual target column\n",
        "target_column = 'liked_destinations_Kingston, Jamaica'\n",
        "if target_column not in df_encoded.columns:\n",
        "    raise ValueError(f\"Target column '{target_column}' not found in df_encoded\")\n",
        "\n",
        "X = df_encoded.drop(columns=[target_column])\n",
        "y = df_encoded[target_column]\n",
        "\n",
        "# Step 8: Train-test split\n",
        "X_train, X_test, y_train, y_test = train_test_split(X, y, test_size=0.2, random_state=42)\n",
        "\n",
        "# Display the resulting DataFrame after processing\n",
        "print(df_encoded.head())\n"
      ],
      "metadata": {
        "colab": {
          "base_uri": "https://localhost:8080/"
        },
        "id": "Z_FH0V_c74UH",
        "outputId": "bd3a604f-7088-4998-e14c-f50b05096392"
      },
      "execution_count": null,
      "outputs": [
        {
          "output_type": "stream",
          "name": "stdout",
          "text": [
            "   budget_per_night  Adventure  Beach  Cuisine  Culture  History  Nature  \\\n",
            "0          0.050399        1.0    1.0      1.0      0.0      0.0     1.0   \n",
            "1          0.002505        0.0    1.0      1.0      1.0      1.0     0.0   \n",
            "2          0.050399        1.0    1.0      1.0      1.0      0.0     0.0   \n",
            "3          0.050399        0.0    0.0      1.0      0.0      0.0     0.0   \n",
            "4          0.000000        0.0    0.0      0.0      0.0      0.0     1.0   \n",
            "\n",
            "   Nightlife  Shopping  liked_destinations_Aachen, Germany  ...  \\\n",
            "0        0.0       0.0                                 0.0  ...   \n",
            "1        1.0       1.0                                 0.0  ...   \n",
            "2        1.0       0.0                                 0.0  ...   \n",
            "3        0.0       0.0                                 0.0  ...   \n",
            "4        0.0       0.0                                 0.0  ...   \n",
            "\n",
            "   popularity_preference_Off the Beaten Path  popularity_preference_Unknown  \\\n",
            "0                                      False                          False   \n",
            "1                                      False                          False   \n",
            "2                                      False                          False   \n",
            "3                                      False                          False   \n",
            "4                                       True                          False   \n",
            "\n",
            "   scenery_preferences_Desert  scenery_preferences_Jungle  \\\n",
            "0                         0.0                         0.0   \n",
            "1                         0.0                         0.0   \n",
            "2                         0.0                         1.0   \n",
            "3                         0.0                         0.0   \n",
            "4                         0.0                         0.0   \n",
            "\n",
            "   scenery_preferences_Lake  scenery_preferences_Mountain  \\\n",
            "0                       1.0                           0.0   \n",
            "1                       1.0                           0.0   \n",
            "2                       1.0                           0.0   \n",
            "3                       1.0                           0.0   \n",
            "4                       1.0                           1.0   \n",
            "\n",
            "   scenery_preferences_Plains  scenery_preferences_Rural  \\\n",
            "0                         0.0                        0.0   \n",
            "1                         0.0                        1.0   \n",
            "2                         0.0                        0.0   \n",
            "3                         0.0                        0.0   \n",
            "4                         0.0                        0.0   \n",
            "\n",
            "   scenery_preferences_Sea  scenery_preferences_Urban  \n",
            "0                      1.0                        1.0  \n",
            "1                      1.0                        1.0  \n",
            "2                      1.0                        1.0  \n",
            "3                      0.0                        0.0  \n",
            "4                      1.0                        0.0  \n",
            "\n",
            "[5 rows x 4359 columns]\n"
          ]
        }
      ]
    },
    {
      "cell_type": "code",
      "source": [
        "from google.colab import files\n",
        "df_cleaned.to_csv('cleaned_preference_data.csv', index=False)\n",
        "files.download('cleaned_preference_data.csv')\n",
        "\n"
      ],
      "metadata": {
        "id": "icT-_JKSHqio"
      },
      "execution_count": null,
      "outputs": []
    }
  ]
}